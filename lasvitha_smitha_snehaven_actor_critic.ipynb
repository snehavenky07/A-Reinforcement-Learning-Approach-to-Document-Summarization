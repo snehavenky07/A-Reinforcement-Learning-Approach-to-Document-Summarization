{
 "cells": [
  {
   "cell_type": "code",
   "execution_count": 3,
   "metadata": {
    "execution": {
     "iopub.execute_input": "2024-05-02T22:28:45.090336Z",
     "iopub.status.busy": "2024-05-02T22:28:45.089955Z",
     "iopub.status.idle": "2024-05-02T22:28:45.301868Z",
     "shell.execute_reply": "2024-05-02T22:28:45.301079Z",
     "shell.execute_reply.started": "2024-05-02T22:28:45.090302Z"
    }
   },
   "outputs": [],
   "source": [
    "import pandas as pd\n",
    "import numpy as np\n",
    "import tensorflow as tf\n",
    "import nltk\n",
    "# nltk.download('stopwords')\n",
    "# nltk.download('punkt')\n",
    "# nltk.download('wordnet')\n",
    "from nltk.tokenize import word_tokenize\n",
    "from nltk.corpus import stopwords\n",
    "en_stopwords = set(stopwords.words('english')) \n",
    "from nltk.stem import WordNetLemmatizer\n",
    "from sklearn.model_selection import train_test_split\n",
    "from rouge import Rouge\n",
    "import re\n",
    "from bs4 import BeautifulSoup\n",
    "import matplotlib.pyplot as plt\n",
    "import warnings\n",
    "warnings.filterwarnings(\"ignore\")"
   ]
  },
  {
   "cell_type": "code",
   "execution_count": 5,
   "metadata": {
    "execution": {
     "iopub.execute_input": "2024-05-02T22:29:21.812324Z",
     "iopub.status.busy": "2024-05-02T22:29:21.811976Z",
     "iopub.status.idle": "2024-05-02T22:29:21.929838Z",
     "shell.execute_reply": "2024-05-02T22:29:21.928975Z",
     "shell.execute_reply.started": "2024-05-02T22:29:21.812300Z"
    }
   },
   "outputs": [
    {
     "data": {
      "text/html": [
       "<div>\n",
       "<style scoped>\n",
       "    .dataframe tbody tr th:only-of-type {\n",
       "        vertical-align: middle;\n",
       "    }\n",
       "\n",
       "    .dataframe tbody tr th {\n",
       "        vertical-align: top;\n",
       "    }\n",
       "\n",
       "    .dataframe thead th {\n",
       "        text-align: right;\n",
       "    }\n",
       "</style>\n",
       "<table border=\"1\" class=\"dataframe\">\n",
       "  <thead>\n",
       "    <tr style=\"text-align: right;\">\n",
       "      <th></th>\n",
       "      <th>Text</th>\n",
       "      <th>Summary</th>\n",
       "    </tr>\n",
       "  </thead>\n",
       "  <tbody>\n",
       "    <tr>\n",
       "      <th>0</th>\n",
       "      <td>I have bought several of the Vitality canned d...</td>\n",
       "      <td>Good Quality Dog Food</td>\n",
       "    </tr>\n",
       "    <tr>\n",
       "      <th>1</th>\n",
       "      <td>Product arrived labeled as Jumbo Salted Peanut...</td>\n",
       "      <td>Not as Advertised</td>\n",
       "    </tr>\n",
       "    <tr>\n",
       "      <th>2</th>\n",
       "      <td>This is a confection that has been around a fe...</td>\n",
       "      <td>\"Delight\" says it all</td>\n",
       "    </tr>\n",
       "    <tr>\n",
       "      <th>3</th>\n",
       "      <td>If you are looking for the secret ingredient i...</td>\n",
       "      <td>Cough Medicine</td>\n",
       "    </tr>\n",
       "    <tr>\n",
       "      <th>4</th>\n",
       "      <td>Great taffy at a great price.  There was a wid...</td>\n",
       "      <td>Great taffy</td>\n",
       "    </tr>\n",
       "  </tbody>\n",
       "</table>\n",
       "</div>"
      ],
      "text/plain": [
       "                                                Text                Summary\n",
       "0  I have bought several of the Vitality canned d...  Good Quality Dog Food\n",
       "1  Product arrived labeled as Jumbo Salted Peanut...      Not as Advertised\n",
       "2  This is a confection that has been around a fe...  \"Delight\" says it all\n",
       "3  If you are looking for the secret ingredient i...         Cough Medicine\n",
       "4  Great taffy at a great price.  There was a wid...            Great taffy"
      ]
     },
     "execution_count": 5,
     "metadata": {},
     "output_type": "execute_result"
    }
   ],
   "source": [
    "# Load dataset\n",
    "data = pd.read_csv(\"Reviews.csv\")\n",
    "# Drop Duplicates and NA values\n",
    "data.drop_duplicates(subset=['Text'], inplace=True)  # dropping duplicates\n",
    "data.dropna(axis=0, inplace=True)  # dropping na\n",
    "data = data.reset_index(drop=True)\n",
    "columns_to_keep = [\"Text\", \"Summary\"]\n",
    "data = data[columns_to_keep]\n",
    "data.head()"
   ]
  },
  {
   "cell_type": "code",
   "execution_count": 6,
   "metadata": {
    "execution": {
     "iopub.execute_input": "2024-05-02T22:29:25.018470Z",
     "iopub.status.busy": "2024-05-02T22:29:25.017751Z",
     "iopub.status.idle": "2024-05-02T22:29:26.345508Z",
     "shell.execute_reply": "2024-05-02T22:29:26.344607Z",
     "shell.execute_reply.started": "2024-05-02T22:29:25.018439Z"
    }
   },
   "outputs": [
    {
     "data": {
      "text/html": [
       "<div>\n",
       "<style scoped>\n",
       "    .dataframe tbody tr th:only-of-type {\n",
       "        vertical-align: middle;\n",
       "    }\n",
       "\n",
       "    .dataframe tbody tr th {\n",
       "        vertical-align: top;\n",
       "    }\n",
       "\n",
       "    .dataframe thead th {\n",
       "        text-align: right;\n",
       "    }\n",
       "</style>\n",
       "<table border=\"1\" class=\"dataframe\">\n",
       "  <thead>\n",
       "    <tr style=\"text-align: right;\">\n",
       "      <th></th>\n",
       "      <th>Text</th>\n",
       "      <th>Summary</th>\n",
       "      <th>Raw_Text</th>\n",
       "    </tr>\n",
       "  </thead>\n",
       "  <tbody>\n",
       "    <tr>\n",
       "      <th>0</th>\n",
       "      <td>bought several vitality canned dog food produc...</td>\n",
       "      <td>Good Quality Dog Food</td>\n",
       "      <td>I have bought several of the Vitality canned d...</td>\n",
       "    </tr>\n",
       "    <tr>\n",
       "      <th>1</th>\n",
       "      <td>product arrived labeled jumbo salted peanutsth...</td>\n",
       "      <td>Not as Advertised</td>\n",
       "      <td>Product arrived labeled as Jumbo Salted Peanut...</td>\n",
       "    </tr>\n",
       "    <tr>\n",
       "      <th>2</th>\n",
       "      <td>confection around centuries light pillowy citr...</td>\n",
       "      <td>\"Delight\" says it all</td>\n",
       "      <td>This is a confection that has been around a fe...</td>\n",
       "    </tr>\n",
       "    <tr>\n",
       "      <th>3</th>\n",
       "      <td>looking secret ingredient robitussin believe f...</td>\n",
       "      <td>Cough Medicine</td>\n",
       "      <td>If you are looking for the secret ingredient i...</td>\n",
       "    </tr>\n",
       "    <tr>\n",
       "      <th>4</th>\n",
       "      <td>great taffy great price wide assortment yummy ...</td>\n",
       "      <td>Great taffy</td>\n",
       "      <td>Great taffy at a great price.  There was a wid...</td>\n",
       "    </tr>\n",
       "  </tbody>\n",
       "</table>\n",
       "</div>"
      ],
      "text/plain": [
       "                                                Text                Summary  \\\n",
       "0  bought several vitality canned dog food produc...  Good Quality Dog Food   \n",
       "1  product arrived labeled jumbo salted peanutsth...      Not as Advertised   \n",
       "2  confection around centuries light pillowy citr...  \"Delight\" says it all   \n",
       "3  looking secret ingredient robitussin believe f...         Cough Medicine   \n",
       "4  great taffy great price wide assortment yummy ...            Great taffy   \n",
       "\n",
       "                                            Raw_Text  \n",
       "0  I have bought several of the Vitality canned d...  \n",
       "1  Product arrived labeled as Jumbo Salted Peanut...  \n",
       "2  This is a confection that has been around a fe...  \n",
       "3  If you are looking for the secret ingredient i...  \n",
       "4  Great taffy at a great price.  There was a wid...  "
      ]
     },
     "execution_count": 6,
     "metadata": {},
     "output_type": "execute_result"
    }
   ],
   "source": [
    "contraction_mapping = {\"ain't\": \"is not\", \"aren't\": \"are not\",\"can't\": \"cannot\", \"'cause\": \"because\", \"could've\": \"could have\", \"couldn't\": \"could not\",\n",
    "                       \"didn't\": \"did not\",  \"doesn't\": \"does not\", \"don't\": \"do not\", \"hadn't\": \"had not\", \"hasn't\": \"has not\", \"haven't\": \"have not\",\n",
    "                       \"he'd\": \"he would\",\"he'll\": \"he will\", \"he's\": \"he is\", \"how'd\": \"how did\", \"how'd'y\": \"how do you\", \"how'll\": \"how will\", \"how's\": \"how is\",\n",
    "                       \"I'd\": \"I would\", \"I'd've\": \"I would have\", \"I'll\": \"I will\", \"I'll've\": \"I will have\",\"I'm\": \"I am\", \"I've\": \"I have\", \"i'd\": \"i would\",\n",
    "                       \"i'd've\": \"i would have\", \"i'll\": \"i will\",  \"i'll've\": \"i will have\",\"i'm\": \"i am\", \"i've\": \"i have\", \"isn't\": \"is not\", \"it'd\": \"it would\",\n",
    "                       \"it'd've\": \"it would have\", \"it'll\": \"it will\", \"it'll've\": \"it will have\",\"it's\": \"it is\", \"let's\": \"let us\", \"ma'am\": \"madam\",\n",
    "                       \"mayn't\": \"may not\", \"might've\": \"might have\",\"mightn't\": \"might not\",\"mightn't've\": \"might not have\", \"must've\": \"must have\",\n",
    "                       \"mustn't\": \"must not\", \"mustn't've\": \"must not have\", \"needn't\": \"need not\", \"needn't've\": \"need not have\",\"o'clock\": \"of the clock\",\n",
    "                       \"oughtn't\": \"ought not\", \"oughtn't've\": \"ought not have\", \"shan't\": \"shall not\", \"sha'n't\": \"shall not\", \"shan't've\": \"shall not have\",\n",
    "                       \"she'd\": \"she would\", \"she'd've\": \"she would have\", \"she'll\": \"she will\", \"she'll've\": \"she will have\", \"she's\": \"she is\",\n",
    "                       \"should've\": \"should have\", \"shouldn't\": \"should not\", \"shouldn't've\": \"should not have\", \"so've\": \"so have\",\"so's\": \"so as\",\n",
    "                       \"this's\": \"this is\",\"that'd\": \"that would\", \"that'd've\": \"that would have\", \"that's\": \"that is\", \"there'd\": \"there would\",\n",
    "                       \"there'd've\": \"there would have\", \"there's\": \"there is\", \"here's\": \"here is\",\"they'd\": \"they would\", \"they'd've\": \"they would have\",\n",
    "                       \"they'll\": \"they will\", \"they'll've\": \"they will have\", \"they're\": \"they are\", \"they've\": \"they have\", \"to've\": \"to have\",\n",
    "                       \"wasn't\": \"was not\", \"we'd\": \"we would\", \"we'd've\": \"we would have\", \"we'll\": \"we will\", \"we'll've\": \"we will have\", \"we're\": \"we are\",\n",
    "                       \"we've\": \"we have\", \"weren't\": \"were not\", \"what'll\": \"what will\", \"what'll've\": \"what will have\", \"what're\": \"what are\",\n",
    "                       \"what's\": \"what is\", \"what've\": \"what have\", \"when's\": \"when is\", \"when've\": \"when have\", \"where'd\": \"where did\", \"where's\": \"where is\",\n",
    "                       \"where've\": \"where have\", \"who'll\": \"who will\", \"who'll've\": \"who will have\", \"who's\": \"who is\", \"who've\": \"who have\",\n",
    "                       \"why's\": \"why is\", \"why've\": \"why have\", \"will've\": \"will have\", \"won't\": \"will not\", \"won't've\": \"will not have\",\n",
    "                       \"would've\": \"would have\", \"wouldn't\": \"would not\", \"wouldn't've\": \"would not have\", \"y'all\": \"you all\",\n",
    "                       \"y'all'd\": \"you all would\",\"y'all'd've\": \"you all would have\",\"y'all're\": \"you all are\",\"y'all've\": \"you all have\",\n",
    "                       \"you'd\": \"you would\", \"you'd've\": \"you would have\", \"you'll\": \"you will\", \"you'll've\": \"you will have\",\n",
    "                       \"you're\": \"you are\", \"you've\": \"you have\"\n",
    "                      }\n",
    "\n",
    "def preprocess_text(text):\n",
    "    ''' clean text column in dataset'''\n",
    "    # lowercase words\n",
    "    clean_text = text.lower() \n",
    "    # remove HTML tags\n",
    "    clean_text = BeautifulSoup(clean_text, \"lxml\").text \n",
    "    clean_text = re.sub(r'\\([^)]*\\)', '', clean_text)\n",
    "    # remove quotes\n",
    "    clean_text = re.sub('\"', '', clean_text) \n",
    "    # the dictionary that we will use for expanding the contractions\n",
    "    clean_text = ' '.join([contraction_mapping[t] if t in contraction_mapping else t for t in clean_text.split(\" \")]) \n",
    "    # match all strings that contain a non-letter\n",
    "    clean_text = re.sub('[^a-zA-Z0-9\\s]', '', clean_text) \n",
    "    tokens = [w for w in clean_text.split() if not w in en_stopwords]\n",
    "     # remove the whitespaces or specific characters from the string at the beginning and end of the string\n",
    "    clean_text = (\" \".join(tokens)).strip()\n",
    "    return clean_text\n",
    "\n",
    "data[\"Raw_Text\"] = data[\"Text\"].copy()\n",
    "data['Text'] = data['Text'].apply(preprocess_text)\n",
    "data.head()"
   ]
  },
  {
   "cell_type": "code",
   "execution_count": 7,
   "metadata": {
    "execution": {
     "iopub.execute_input": "2024-05-02T22:29:33.626015Z",
     "iopub.status.busy": "2024-05-02T22:29:33.625629Z",
     "iopub.status.idle": "2024-05-02T22:29:33.642275Z",
     "shell.execute_reply": "2024-05-02T22:29:33.641193Z",
     "shell.execute_reply.started": "2024-05-02T22:29:33.625986Z"
    }
   },
   "outputs": [
    {
     "name": "stdout",
     "output_type": "stream",
     "text": [
      "Train Size: 3987\n",
      "Validation Size: 997\n"
     ]
    }
   ],
   "source": [
    "# Train-test split\n",
    "X = data[\"Text\"].tolist()\n",
    "y = data[\"Summary\"].tolist()\n",
    "\n",
    "X_train, X_val, y_train, y_val = train_test_split(X, y, test_size=0.2, random_state=42)\n",
    "print(f\"Train Size: {len(X_train)}\")\n",
    "print(f\"Validation Size: {len(X_val)}\")"
   ]
  },
  {
   "cell_type": "code",
   "execution_count": 8,
   "metadata": {
    "execution": {
     "iopub.execute_input": "2024-05-02T22:29:36.577278Z",
     "iopub.status.busy": "2024-05-02T22:29:36.576659Z",
     "iopub.status.idle": "2024-05-02T22:29:36.746432Z",
     "shell.execute_reply": "2024-05-02T22:29:36.745488Z",
     "shell.execute_reply.started": "2024-05-02T22:29:36.577251Z"
    }
   },
   "outputs": [
    {
     "name": "stdout",
     "output_type": "stream",
     "text": [
      "Vocab Size: 14987\n"
     ]
    }
   ],
   "source": [
    "# Tokenization\n",
    "tokenizer = tf.keras.preprocessing.text.Tokenizer()\n",
    "tokenizer.fit_on_texts(X_train)\n",
    "vocab_size = len(tokenizer.word_index) + 1\n",
    "print(f\"Vocab Size: {vocab_size}\")"
   ]
  },
  {
   "cell_type": "code",
   "execution_count": 9,
   "metadata": {
    "execution": {
     "iopub.execute_input": "2024-05-02T22:29:39.833133Z",
     "iopub.status.busy": "2024-05-02T22:29:39.832479Z",
     "iopub.status.idle": "2024-05-02T22:29:39.976649Z",
     "shell.execute_reply": "2024-05-02T22:29:39.975902Z",
     "shell.execute_reply.started": "2024-05-02T22:29:39.833100Z"
    }
   },
   "outputs": [],
   "source": [
    "# Convert text to sequences\n",
    "X_train_seq = tokenizer.texts_to_sequences(X_train)\n",
    "X_val_seq = tokenizer.texts_to_sequences(X_val)"
   ]
  },
  {
   "cell_type": "code",
   "execution_count": 10,
   "metadata": {
    "execution": {
     "iopub.execute_input": "2024-05-02T22:29:42.700646Z",
     "iopub.status.busy": "2024-05-02T22:29:42.700287Z",
     "iopub.status.idle": "2024-05-02T22:29:42.705709Z",
     "shell.execute_reply": "2024-05-02T22:29:42.704791Z",
     "shell.execute_reply.started": "2024-05-02T22:29:42.700618Z"
    }
   },
   "outputs": [
    {
     "name": "stdout",
     "output_type": "stream",
     "text": [
      "Text: im quest try ramen flavors ramen good lunch easy make cheap versital chicken flavor one remember havent long time one flavors sold stores live made recently better remember salty good one americanized flavors recommend adding 2 cups water added bit 1 14 cup perfect 1 14 1 13 1 12 seems perfect amount like eating soup dont pour water add things ramen like meat eggs vegetarian protein frozen veggies make filling meal eat plain dont use seasoning packet add seasonings whatever like great product recommend want easy cheap lunches\n",
      "\n",
      "Text to Sequence: [1370, 3320, 30, 1434, 46, 1434, 2, 581, 81, 23, 429, 4840, 187, 8, 5, 627, 3862, 149, 24, 5, 46, 568, 180, 509, 40, 388, 25, 627, 310, 2, 5, 6712, 46, 50, 540, 89, 282, 32, 204, 70, 246, 810, 52, 100, 246, 810, 246, 1166, 246, 255, 247, 100, 196, 1, 124, 368, 748, 1053, 32, 75, 201, 1434, 1, 451, 676, 1908, 396, 1084, 811, 23, 768, 341, 38, 332, 748, 19, 749, 628, 75, 2057, 769, 1, 3, 6, 50, 76, 81, 429, 1320]\n"
     ]
    }
   ],
   "source": [
    "print(f\"Text: {X_train[0]}\")\n",
    "print(f\"\\nText to Sequence: {X_train_seq[0]}\")"
   ]
  },
  {
   "cell_type": "code",
   "execution_count": 11,
   "metadata": {
    "execution": {
     "iopub.execute_input": "2024-05-02T22:29:46.256451Z",
     "iopub.status.busy": "2024-05-02T22:29:46.255672Z",
     "iopub.status.idle": "2024-05-02T22:29:46.298965Z",
     "shell.execute_reply": "2024-05-02T22:29:46.298013Z",
     "shell.execute_reply.started": "2024-05-02T22:29:46.256417Z"
    }
   },
   "outputs": [
    {
     "name": "stdout",
     "output_type": "stream",
     "text": [
      "Max Length of the Text: 443\n"
     ]
    }
   ],
   "source": [
    "# Pad sequences\n",
    "# max_length = 100  \n",
    "# maximum length of sentences\n",
    "max_length = max([len(each_text) for each_text in X_train_seq])\n",
    "print(f\"Max Length of the Text: {max_length}\")\n",
    "# Pad sequences with zeros and apply masking\n",
    "X_train_padded = tf.keras.preprocessing.sequence.pad_sequences(X_train_seq, maxlen=max_length, padding='post', truncating='post')\n",
    "X_val_padded = tf.keras.preprocessing.sequence.pad_sequences(X_val_seq, maxlen=max_length, padding='post', truncating='post')"
   ]
  },
  {
   "cell_type": "code",
   "execution_count": 12,
   "metadata": {
    "execution": {
     "iopub.execute_input": "2024-05-02T22:29:49.194135Z",
     "iopub.status.busy": "2024-05-02T22:29:49.193694Z",
     "iopub.status.idle": "2024-05-02T22:29:49.201277Z",
     "shell.execute_reply": "2024-05-02T22:29:49.200270Z",
     "shell.execute_reply.started": "2024-05-02T22:29:49.194063Z"
    }
   },
   "outputs": [
    {
     "name": "stdout",
     "output_type": "stream",
     "text": [
      "Padding: [1370 3320   30 1434   46 1434    2  581   81   23  429 4840  187    8\n",
      "    5  627 3862  149   24    5   46  568  180  509   40  388   25  627\n",
      "  310    2    5 6712   46   50  540   89  282   32  204   70  246  810\n",
      "   52  100  246  810  246 1166  246  255  247  100  196    1  124  368\n",
      "  748 1053   32   75  201 1434    1  451  676 1908  396 1084  811   23\n",
      "  768  341   38  332  748   19  749  628   75 2057  769    1    3    6\n",
      "   50   76   81  429 1320    0    0    0    0    0    0    0    0    0\n",
      "    0    0    0    0    0    0    0    0    0    0    0    0    0    0\n",
      "    0    0    0    0    0    0    0    0    0    0    0    0    0    0\n",
      "    0    0    0    0    0    0    0    0    0    0    0    0    0    0\n",
      "    0    0    0    0    0    0    0    0    0    0    0    0    0    0\n",
      "    0    0    0    0    0    0    0    0    0    0    0    0    0    0\n",
      "    0    0    0    0    0    0    0    0    0    0    0    0    0    0\n",
      "    0    0    0    0    0    0    0    0    0    0    0    0    0    0\n",
      "    0    0    0    0    0    0    0    0    0    0    0    0    0    0\n",
      "    0    0    0    0    0    0    0    0    0    0    0    0    0    0\n",
      "    0    0    0    0    0    0    0    0    0    0    0    0    0    0\n",
      "    0    0    0    0    0    0    0    0    0    0    0    0    0    0\n",
      "    0    0    0    0    0    0    0    0    0    0    0    0    0    0\n",
      "    0    0    0    0    0    0    0    0    0    0    0    0    0    0\n",
      "    0    0    0    0    0    0    0    0    0    0    0    0    0    0\n",
      "    0    0    0    0    0    0    0    0    0    0    0    0    0    0\n",
      "    0    0    0    0    0    0    0    0    0    0    0    0    0    0\n",
      "    0    0    0    0    0    0    0    0    0    0    0    0    0    0\n",
      "    0    0    0    0    0    0    0    0    0    0    0    0    0    0\n",
      "    0    0    0    0    0    0    0    0    0    0    0    0    0    0\n",
      "    0    0    0    0    0    0    0    0    0    0    0    0    0    0\n",
      "    0    0    0    0    0    0    0    0    0    0    0    0    0    0\n",
      "    0    0    0    0    0    0    0    0    0    0    0    0    0    0\n",
      "    0    0    0    0    0    0    0    0    0    0    0    0    0    0\n",
      "    0    0    0    0    0    0    0    0    0    0    0    0    0    0\n",
      "    0    0    0    0    0    0    0    0    0]\n"
     ]
    }
   ],
   "source": [
    "print(f\"Padding: {X_train_padded[0]}\")"
   ]
  },
  {
   "cell_type": "code",
   "execution_count": 13,
   "metadata": {
    "execution": {
     "iopub.execute_input": "2024-05-02T22:29:52.605758Z",
     "iopub.status.busy": "2024-05-02T22:29:52.605404Z",
     "iopub.status.idle": "2024-05-02T22:29:52.617892Z",
     "shell.execute_reply": "2024-05-02T22:29:52.616979Z",
     "shell.execute_reply.started": "2024-05-02T22:29:52.605730Z"
    }
   },
   "outputs": [
    {
     "data": {
      "text/plain": [
       "array([[1., 1., 1., ..., 0., 0., 0.],\n",
       "       [1., 1., 1., ..., 0., 0., 0.],\n",
       "       [1., 1., 1., ..., 0., 0., 0.],\n",
       "       ...,\n",
       "       [1., 1., 1., ..., 0., 0., 0.],\n",
       "       [1., 1., 1., ..., 0., 0., 0.],\n",
       "       [1., 1., 1., ..., 0., 0., 0.]])"
      ]
     },
     "execution_count": 13,
     "metadata": {},
     "output_type": "execute_result"
    }
   ],
   "source": [
    "# Masking for padded tokens\n",
    "mask = (X_train_padded != 0).astype(float)\n",
    "mask"
   ]
  },
  {
   "cell_type": "code",
   "execution_count": 14,
   "metadata": {
    "execution": {
     "iopub.execute_input": "2024-05-02T22:29:55.276028Z",
     "iopub.status.busy": "2024-05-02T22:29:55.275663Z",
     "iopub.status.idle": "2024-05-02T22:29:55.285961Z",
     "shell.execute_reply": "2024-05-02T22:29:55.285001Z",
     "shell.execute_reply.started": "2024-05-02T22:29:55.275999Z"
    }
   },
   "outputs": [],
   "source": [
    "# Actor-Critic model\n",
    "class ActorCritic(tf.keras.Model):\n",
    "    def __init__(self, num_actions, vocab_size):\n",
    "        super(ActorCritic, self).__init__()\n",
    "        # Actor network\n",
    "        self.actor = tf.keras.Sequential([\n",
    "            tf.keras.layers.Embedding(vocab_size, 128, input_length=max_length),\n",
    "            tf.keras.layers.Bidirectional(tf.keras.layers.LSTM(64, return_sequences=True)),\n",
    "            tf.keras.layers.GlobalMaxPooling1D(),\n",
    "            tf.keras.layers.Dense(64, activation='relu'),\n",
    "            tf.keras.layers.Dense(num_actions, activation='softmax')\n",
    "        ])\n",
    "        # Critic network\n",
    "        self.critic = tf.keras.Sequential([\n",
    "            tf.keras.layers.Embedding(vocab_size, 128, input_length=max_length),\n",
    "            tf.keras.layers.Bidirectional(tf.keras.layers.LSTM(64, return_sequences=True)),\n",
    "            tf.keras.layers.GlobalMaxPooling1D(),\n",
    "            tf.keras.layers.Dense(64, activation='relu'),\n",
    "            tf.keras.layers.Dense(1)\n",
    "        ])\n",
    "\n",
    "    def call(self, state):\n",
    "        # Forward pass for actor network\n",
    "        action_probs = self.actor(state)\n",
    "        # Forward pass for critic network\n",
    "        value = self.critic(state)\n",
    "        return action_probs, value"
   ]
  },
  {
   "cell_type": "code",
   "execution_count": 15,
   "metadata": {
    "execution": {
     "iopub.execute_input": "2024-05-02T22:29:58.436835Z",
     "iopub.status.busy": "2024-05-02T22:29:58.435906Z",
     "iopub.status.idle": "2024-05-02T22:29:58.441916Z",
     "shell.execute_reply": "2024-05-02T22:29:58.440815Z",
     "shell.execute_reply.started": "2024-05-02T22:29:58.436801Z"
    }
   },
   "outputs": [],
   "source": [
    "# Custom loss functions\n",
    "def actor_loss(action_probs, advantages):\n",
    "    return -tf.reduce_mean(tf.math.log(action_probs) * advantages)\n",
    "\n",
    "def critic_loss(value, returns):\n",
    "    return tf.reduce_mean(tf.square(returns - value))"
   ]
  },
  {
   "cell_type": "code",
   "execution_count": 16,
   "metadata": {
    "execution": {
     "iopub.execute_input": "2024-05-02T22:30:01.068236Z",
     "iopub.status.busy": "2024-05-02T22:30:01.067886Z",
     "iopub.status.idle": "2024-05-02T22:30:01.074336Z",
     "shell.execute_reply": "2024-05-02T22:30:01.073315Z",
     "shell.execute_reply.started": "2024-05-02T22:30:01.068210Z"
    }
   },
   "outputs": [],
   "source": [
    "# Training function\n",
    "def train_step(actor_critic, states, actions, returns, advantages):\n",
    "    with tf.GradientTape() as tape:\n",
    "        # Forward pass\n",
    "        action_probs, values = actor_critic(states)\n",
    "        # Calculate actor and critic losses\n",
    "        actor_loss_val = actor_loss(action_probs, advantages)\n",
    "        critic_loss_val = critic_loss(values, returns)\n",
    "        total_loss = actor_loss_val + critic_loss_val\n",
    "    # Compute gradients\n",
    "    grads = tape.gradient(total_loss, actor_critic.trainable_variables)\n",
    "    # Apply gradients\n",
    "    optimizer.apply_gradients(zip(grads, actor_critic.trainable_variables))\n",
    "    return total_loss"
   ]
  },
  {
   "cell_type": "code",
   "execution_count": 17,
   "metadata": {
    "execution": {
     "iopub.execute_input": "2024-05-02T22:30:03.765105Z",
     "iopub.status.busy": "2024-05-02T22:30:03.764394Z",
     "iopub.status.idle": "2024-05-02T22:30:03.770050Z",
     "shell.execute_reply": "2024-05-02T22:30:03.769096Z",
     "shell.execute_reply.started": "2024-05-02T22:30:03.765074Z"
    }
   },
   "outputs": [],
   "source": [
    "# Define ROUGE score calculation function\n",
    "def calculate_rouge(generated_summary, ground_truth_summary):\n",
    "    if not ground_truth_summary.strip():  # Check if the ground truth summary is empty\n",
    "        return 0.0  # Return a default value or handle it as appropriate\n",
    "    rouge = Rouge()\n",
    "    scores = rouge.get_scores(generated_summary, ground_truth_summary)\n",
    "    return scores[0]['rouge-1']['f']"
   ]
  },
  {
   "cell_type": "code",
   "execution_count": 18,
   "metadata": {
    "execution": {
     "iopub.execute_input": "2024-05-02T22:30:06.583111Z",
     "iopub.status.busy": "2024-05-02T22:30:06.582276Z",
     "iopub.status.idle": "2024-05-02T22:30:06.589377Z",
     "shell.execute_reply": "2024-05-02T22:30:06.588363Z",
     "shell.execute_reply.started": "2024-05-02T22:30:06.583080Z"
    }
   },
   "outputs": [],
   "source": [
    "def generate_summary(actor_critic, text):\n",
    "    state = tokenizer.texts_to_sequences([text])\n",
    "    state = tf.keras.preprocessing.sequence.pad_sequences(state, maxlen=max_length, padding='post')\n",
    "    action_probs, _ = actor_critic(state)\n",
    "    action_probs = action_probs[0]  # Extract probabilities from batch\n",
    "    #print(\"Action probabilities before softmax:\", action_probs)  # Print action_probs for debugging\n",
    "    # Use softmax with epsilon for numerical stability\n",
    "    epsilon = 1e-8  # Small epsilon value\n",
    "    action_probs = tf.nn.softmax(action_probs + epsilon).numpy()\n",
    "    #print(\"Action probabilities after softmax:\", action_probs)  # Print action_probs after softmax for debugging\n",
    "    # Choose action index based on probabilities\n",
    "    action = np.random.choice(len(action_probs), p=action_probs)\n",
    "    summary = tokenizer.index_word.get(action, 'UNK')  # Get word corresponding to action index\n",
    "    return summary"
   ]
  },
  {
   "cell_type": "code",
   "execution_count": 19,
   "metadata": {
    "execution": {
     "iopub.execute_input": "2024-05-02T22:30:09.436642Z",
     "iopub.status.busy": "2024-05-02T22:30:09.436006Z",
     "iopub.status.idle": "2024-05-02T22:30:09.442408Z",
     "shell.execute_reply": "2024-05-02T22:30:09.441353Z",
     "shell.execute_reply.started": "2024-05-02T22:30:09.436614Z"
    }
   },
   "outputs": [],
   "source": [
    "# Reward clipping function\n",
    "def clip_reward(reward):\n",
    "    return max(min(reward, 1.0), -1.0)\n",
    "\n",
    "# Compute returns function\n",
    "def compute_returns(rewards, gamma):\n",
    "    returns = []\n",
    "    G = 0\n",
    "    for r in reversed(rewards):\n",
    "        G = r + gamma * G\n",
    "        returns.insert(0, G)\n",
    "    return np.array(returns)"
   ]
  },
  {
   "cell_type": "code",
   "execution_count": 20,
   "metadata": {
    "execution": {
     "iopub.execute_input": "2024-05-02T22:30:28.317878Z",
     "iopub.status.busy": "2024-05-02T22:30:28.317228Z",
     "iopub.status.idle": "2024-05-02T22:30:29.256059Z",
     "shell.execute_reply": "2024-05-02T22:30:29.254797Z",
     "shell.execute_reply.started": "2024-05-02T22:30:28.317847Z"
    }
   },
   "outputs": [],
   "source": [
    "# Optimizer\n",
    "optimizer = tf.keras.optimizers.Adam()\n",
    "# Example usage\n",
    "num_actions = 14987  # Number of actions (e.g., size of vocabulary for text summarization)\n",
    "actor_critic = ActorCritic(num_actions, vocab_size)"
   ]
  },
  {
   "cell_type": "code",
   "execution_count": 21,
   "metadata": {
    "colab": {
     "base_uri": "https://localhost:8080/",
     "height": 1000
    },
    "execution": {
     "iopub.execute_input": "2024-05-02T22:37:31.752455Z",
     "iopub.status.busy": "2024-05-02T22:37:31.751561Z",
     "iopub.status.idle": "2024-05-03T00:22:34.400007Z",
     "shell.execute_reply": "2024-05-03T00:22:34.399117Z",
     "shell.execute_reply.started": "2024-05-02T22:37:31.752423Z"
    },
    "id": "FXEpPvwfB-vX",
    "outputId": "4b219fa2-121e-4833-c0ef-4ecbfd895631"
   },
   "outputs": [
    {
     "name": "stdout",
     "output_type": "stream",
     "text": [
      "Epoch 0, Loss -1.0419723366794642e-05\n",
      "Epoch 1, Loss -5.079992206447059e-06\n",
      "Epoch 2, Loss -1.1809473789980984e-06\n",
      "Epoch 3, Loss -8.734078278394009e-07\n",
      "Epoch 4, Loss -6.985129630265874e-07\n"
     ]
    }
   ],
   "source": [
    "# Initialize variables\n",
    "train_losses = []\n",
    "val_losses = []\n",
    "\n",
    "# Training loop\n",
    "NUM_EPOCHS = 3\n",
    "gamma = 0.99  # Discount factor\n",
    "for epoch in range(NUM_EPOCHS):\n",
    "    epoch_train_losses = []\n",
    "    epoch_val_losses = []\n",
    "    \n",
    "    # Training phase\n",
    "    for text, summary in zip(X_train, y_train):\n",
    "        # Preprocess input text\n",
    "        state = tokenizer.texts_to_sequences([text])\n",
    "        state = tf.keras.preprocessing.sequence.pad_sequences(state, maxlen=max_length, padding='post')\n",
    "        \n",
    "        # Forward pass through critic network to get value estimates\n",
    "        _, value = actor_critic(state)\n",
    "        \n",
    "        # Generate summary using the actor network\n",
    "        generated_summary = generate_summary(actor_critic, text)\n",
    "        \n",
    "        # Calculate reward (ROUGE score)\n",
    "        reward = calculate_rouge(str(generated_summary), str(summary))\n",
    "        print(reward)\n",
    "        \n",
    "        # Reward clipping\n",
    "        reward = clip_reward(reward)\n",
    "        \n",
    "        # Normalize reward\n",
    "        reward = (reward - np.mean(reward)) / (np.std(reward) + 1e-8)\n",
    "        \n",
    "        # Compute returns and advantages\n",
    "        returns = compute_returns([reward], gamma)\n",
    "        advantages = returns - value\n",
    "        \n",
    "        # Perform training step\n",
    "        train_loss = train_step(actor_critic, state, summary, returns, advantages)\n",
    "        epoch_train_losses.append(train_loss)\n",
    "    \n",
    "    # Validation phase\n",
    "    for text, summary in zip(X_val, y_val):\n",
    "        # Preprocess input text\n",
    "        state = tokenizer.texts_to_sequences([text])\n",
    "        state = tf.keras.preprocessing.sequence.pad_sequences(state, maxlen=max_length, padding='post')\n",
    "        \n",
    "        # Forward pass through critic network to get value estimates\n",
    "        _, value = actor_critic(state)\n",
    "        \n",
    "        # Generate summary using the actor network\n",
    "        generated_summary = generate_summary(actor_critic, text)\n",
    "        \n",
    "        # Calculate reward (ROUGE score)\n",
    "        reward = calculate_rouge(str(generated_summary), str(summary))\n",
    "        \n",
    "        # Reward clipping\n",
    "        reward = clip_reward(reward)\n",
    "        \n",
    "        # Normalize reward\n",
    "        reward = (reward - np.mean(reward)) / (np.std(reward) + 1e-8)\n",
    "        \n",
    "        # Compute returns and advantages\n",
    "        returns = compute_returns([reward], gamma)\n",
    "        advantages = returns - value\n",
    "        \n",
    "        # Compute validation loss (no backpropagation)\n",
    "        val_loss = compute_loss(actor_critic, state, summary, returns, advantages)\n",
    "        epoch_val_losses.append(val_loss)\n",
    "    \n",
    "    # Compute average losses for the epoch\n",
    "    avg_train_loss = np.mean(epoch_train_losses)\n",
    "    avg_val_loss = np.mean(epoch_val_losses)\n",
    "    \n",
    "    # Append epoch losses to the list\n",
    "    train_losses.append(avg_train_loss)\n",
    "    val_losses.append(avg_val_loss)\n",
    "    \n",
    "    # Print epoch-wise training and validation losses\n",
    "    print(f\"Epoch {epoch + 1}/{NUM_EPOCHS}: Train Loss = {avg_train_loss}, Validation Loss = {avg_val_loss}\")\n"
   ]
  },
  {
   "cell_type": "code",
   "execution_count": 22,
   "metadata": {
    "execution": {
     "iopub.execute_input": "2024-05-03T00:23:20.746545Z",
     "iopub.status.busy": "2024-05-03T00:23:20.745780Z",
     "iopub.status.idle": "2024-05-03T00:23:21.069194Z",
     "shell.execute_reply": "2024-05-03T00:23:21.068138Z",
     "shell.execute_reply.started": "2024-05-03T00:23:20.746510Z"
    },
    "id": "kKEhS1UrLBBj"
   },
   "outputs": [
    {
     "data": {
      "image/png": "[encoded data removed]",
      "text/plain": [
       "<Figure size 640x480 with 1 Axes>"
      ]
     },
     "metadata": {},
     "output_type": "display_data"
    }
   ],
   "source": [
    "# Plot the loss graph\n",
    "plt.plot(losses)\n",
    "plt.xlabel('Epoch')\n",
    "plt.ylabel('Loss')\n",
    "plt.title('Training Loss')\n",
    "plt.show()"
   ]
  },
  {
   "cell_type": "code",
   "execution_count": null,
   "metadata": {},
   "outputs": [],
   "source": []
  }
 ],
 "metadata": {
  "accelerator": "GPU",
  "colab": {
   "gpuType": "L4",
   "machine_shape": "hm",
   "provenance": []
  },
  "kaggle": {
   "accelerator": "nvidiaTeslaT4",
   "dataSources": [
    {
     "datasetId": 18,
     "sourceId": 2157,
     "sourceType": "datasetVersion"
    }
   ],
   "dockerImageVersionId": 30699,
   "isGpuEnabled": true,
   "isInternetEnabled": true,
   "language": "python",
   "sourceType": "notebook"
  },
  "kernelspec": {
   "display_name": "Python 3 (ipykernel)",
   "language": "python",
   "name": "python3"
  },
  "language_info": {
   "codemirror_mode": {
    "name": "ipython",
    "version": 3
   },
   "file_extension": ".py",
   "mimetype": "text/x-python",
   "name": "python",
   "nbconvert_exporter": "python",
   "pygments_lexer": "ipython3",
   "version": "3.11.5"
  }
 },
 "nbformat": 4,
 "nbformat_minor": 4
}
